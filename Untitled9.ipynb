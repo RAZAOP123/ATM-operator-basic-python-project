{
  "nbformat": 4,
  "nbformat_minor": 0,
  "metadata": {
    "colab": {
      "provenance": []
    },
    "kernelspec": {
      "name": "python3",
      "display_name": "Python 3"
    },
    "language_info": {
      "name": "python"
    }
  },
  "cells": [
    {
      "cell_type": "code",
      "execution_count": 5,
      "metadata": {
        "id": "3apO9L--JGfo"
      },
      "outputs": [],
      "source": [
        "def atm_operations():\n",
        "    balance = 1000  # balance\n",
        "    while True:\n",
        "        print(\"\\nWelcome to the ATM!\")\n",
        "        print(\"1. Withdraw\")\n",
        "        print(\"2. Deposit\")\n",
        "        print(\"3. Check Balance\")\n",
        "        print(\"4. Exit\")\n",
        "\n",
        "        choice = int(input(\"Enter your choice: \"))\n",
        "\n",
        "        if choice == 1:\n",
        "            amount = float(input(\"Enter amount to withdraw:\"))\n",
        "            if amount > balance:\n",
        "                print(\"Insufficient balance.\")\n",
        "            else:\n",
        "                balance -= amount\n",
        "                print(\"Withdrawal successful. Remaining balance:\", balance)\n",
        "        elif choice == 2:\n",
        "            amount = float(input(\"Enter amount to deposit:\"))\n",
        "            balance += amount\n",
        "            print(\"Deposit successful. New balance:\",balance)\n",
        "        elif choice == 3:\n",
        "            print(\"Your current balance is:\",balance)\n",
        "        elif choice == 4:\n",
        "            print(\"Thank you for using the ATM!\")\n",
        "            break\n",
        "        else:\n",
        "            print(\"Invalid choice. Please try again.\")"
      ]
    },
    {
      "cell_type": "code",
      "source": [
        "atm_operations()"
      ],
      "metadata": {
        "colab": {
          "base_uri": "https://localhost:8080/"
        },
        "id": "nZMxgQXaJWzU",
        "outputId": "e44153eb-463e-4674-bd71-86ca4048818e"
      },
      "execution_count": 4,
      "outputs": [
        {
          "output_type": "stream",
          "name": "stdout",
          "text": [
            "\n",
            "Welcome to the ATM!\n",
            "1. Withdraw\n",
            "2. Deposit\n",
            "3. Check Balance\n",
            "4. Exit\n",
            "Enter your choice: 3\n",
            "Your current balance is: 1000\n",
            "\n",
            "Welcome to the ATM!\n",
            "1. Withdraw\n",
            "2. Deposit\n",
            "3. Check Balance\n",
            "4. Exit\n",
            "Enter your choice: 4\n",
            "Thank you for using the ATM!\n"
          ]
        }
      ]
    }
  ]
}